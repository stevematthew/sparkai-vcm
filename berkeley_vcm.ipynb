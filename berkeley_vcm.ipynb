{
 "cells": [
  {
   "cell_type": "code",
   "execution_count": 1,
   "metadata": {},
   "outputs": [],
   "source": [
    "#! pip3 install --upgrade pip\n",
    "#! pip3 install pyspark\n",
    "#! pip3 install pyspark-ai\n",
    "#! pip3 install plotly\n",
    "#! pip3 install openpyxl"
   ]
  },
  {
   "cell_type": "code",
   "execution_count": 2,
   "metadata": {},
   "outputs": [],
   "source": [
    "import requests\n",
    "import os\n",
    "from io import BytesIO\n",
    "from openpyxl import load_workbook\n",
    "import pandas as pd\n",
    "from pyspark_ai import SparkAI\n",
    "from pyspark.sql import SparkSession"
   ]
  },
  {
   "cell_type": "code",
   "execution_count": 3,
   "metadata": {},
   "outputs": [],
   "source": [
    "# Optional environment variables\n",
    "os.environ[\"OPENAI_API_KEY\"] = \"...\"\n",
    "os.environ[\"JAVA_HOME\"] =\"...\""
   ]
  },
  {
   "cell_type": "code",
   "execution_count": 4,
   "metadata": {},
   "outputs": [],
   "source": [
    "berkeley_db_version = \"v8-May-2023\""
   ]
  },
  {
   "cell_type": "code",
   "execution_count": 5,
   "metadata": {},
   "outputs": [],
   "source": [
    "berkeley_xls = f\"https://gspp.berkeley.edu/assets/uploads/page/Voluntary-Registry-Offsets-Database--{berkeley_db_version}.xlsx\""
   ]
  },
  {
   "cell_type": "code",
   "execution_count": null,
   "metadata": {},
   "outputs": [],
   "source": [
    "# Read the Berkeley database xls in a local workbook object\n",
    "vcm_wb = load_workbook(filename=BytesIO(requests.get(berkeley_xls).content))"
   ]
  },
  {
   "cell_type": "code",
   "execution_count": 7,
   "metadata": {},
   "outputs": [],
   "source": [
    "table_ws = vcm_wb['PROJECTS']"
   ]
  },
  {
   "cell_type": "code",
   "execution_count": 8,
   "metadata": {},
   "outputs": [],
   "source": [
    "projects_csv = []\n",
    "for row in table_ws.iter_rows(min_row=5):\n",
    "    projects_csv.append({\n",
    "        \"Scope\": row[5].value,\n",
    "        \"Type\": row[6].value,\n",
    "        \"Country\": row[10].value,\n",
    "        \"State\": row[11].value\n",
    "    })"
   ]
  },
  {
   "cell_type": "code",
   "execution_count": 9,
   "metadata": {},
   "outputs": [],
   "source": [
    "df = pd.DataFrame.from_dict(projects_csv)"
   ]
  },
  {
   "cell_type": "code",
   "execution_count": 10,
   "metadata": {},
   "outputs": [
    {
     "data": {
      "text/html": [
       "<div>\n",
       "<style scoped>\n",
       "    .dataframe tbody tr th:only-of-type {\n",
       "        vertical-align: middle;\n",
       "    }\n",
       "\n",
       "    .dataframe tbody tr th {\n",
       "        vertical-align: top;\n",
       "    }\n",
       "\n",
       "    .dataframe thead th {\n",
       "        text-align: right;\n",
       "    }\n",
       "</style>\n",
       "<table border=\"1\" class=\"dataframe\">\n",
       "  <thead>\n",
       "    <tr style=\"text-align: right;\">\n",
       "      <th></th>\n",
       "      <th>Scope</th>\n",
       "      <th>Type</th>\n",
       "      <th>Country</th>\n",
       "      <th>State</th>\n",
       "    </tr>\n",
       "  </thead>\n",
       "  <tbody>\n",
       "    <tr>\n",
       "      <th>0</th>\n",
       "      <td>Household &amp; Community</td>\n",
       "      <td>Bundled Energy Efficiency</td>\n",
       "      <td>Mali</td>\n",
       "      <td>Niono District</td>\n",
       "    </tr>\n",
       "    <tr>\n",
       "      <th>1</th>\n",
       "      <td>Chemical Processes</td>\n",
       "      <td>SF6 Replacement</td>\n",
       "      <td>United States</td>\n",
       "      <td>OREGON</td>\n",
       "    </tr>\n",
       "    <tr>\n",
       "      <th>2</th>\n",
       "      <td>Agriculture</td>\n",
       "      <td>Manure Methane Digester</td>\n",
       "      <td>United States</td>\n",
       "      <td>CALIFORNIA</td>\n",
       "    </tr>\n",
       "    <tr>\n",
       "      <th>3</th>\n",
       "      <td>Forestry &amp; Land Use</td>\n",
       "      <td>Afforestation/Reforestation</td>\n",
       "      <td>Madagascar</td>\n",
       "      <td>Miandrivazo</td>\n",
       "    </tr>\n",
       "    <tr>\n",
       "      <th>4</th>\n",
       "      <td>Forestry &amp; Land Use</td>\n",
       "      <td>Afforestation/Reforestation</td>\n",
       "      <td>Brazil</td>\n",
       "      <td>Roraima</td>\n",
       "    </tr>\n",
       "    <tr>\n",
       "      <th>5</th>\n",
       "      <td>Waste Management</td>\n",
       "      <td>Landfill Methane</td>\n",
       "      <td>United States</td>\n",
       "      <td>ILLINOIS</td>\n",
       "    </tr>\n",
       "    <tr>\n",
       "      <th>6</th>\n",
       "      <td>Industrial &amp; Commercial</td>\n",
       "      <td>Fuel Switching</td>\n",
       "      <td>Bolivia</td>\n",
       "      <td>Nor Ciniti</td>\n",
       "    </tr>\n",
       "    <tr>\n",
       "      <th>7</th>\n",
       "      <td>Forestry &amp; Land Use</td>\n",
       "      <td>Afforestation/Reforestation</td>\n",
       "      <td>United States</td>\n",
       "      <td>COLORADO</td>\n",
       "    </tr>\n",
       "    <tr>\n",
       "      <th>8</th>\n",
       "      <td>Industrial &amp; Commercial</td>\n",
       "      <td>Pneumatic Retrofit</td>\n",
       "      <td>United States</td>\n",
       "      <td>OKLAHOMA</td>\n",
       "    </tr>\n",
       "    <tr>\n",
       "      <th>9</th>\n",
       "      <td>Waste Management</td>\n",
       "      <td>Landfill Methane</td>\n",
       "      <td>United States</td>\n",
       "      <td>ILLINOIS</td>\n",
       "    </tr>\n",
       "  </tbody>\n",
       "</table>\n",
       "</div>"
      ],
      "text/plain": [
       "                     Scope                         Type        Country  \\\n",
       "0    Household & Community    Bundled Energy Efficiency           Mali   \n",
       "1       Chemical Processes              SF6 Replacement  United States   \n",
       "2              Agriculture      Manure Methane Digester  United States   \n",
       "3      Forestry & Land Use  Afforestation/Reforestation     Madagascar   \n",
       "4      Forestry & Land Use  Afforestation/Reforestation         Brazil   \n",
       "5         Waste Management             Landfill Methane  United States   \n",
       "6  Industrial & Commercial               Fuel Switching        Bolivia   \n",
       "7      Forestry & Land Use  Afforestation/Reforestation  United States   \n",
       "8  Industrial & Commercial           Pneumatic Retrofit  United States   \n",
       "9         Waste Management             Landfill Methane  United States   \n",
       "\n",
       "            State  \n",
       "0  Niono District  \n",
       "1          OREGON  \n",
       "2      CALIFORNIA  \n",
       "3     Miandrivazo  \n",
       "4         Roraima  \n",
       "5        ILLINOIS  \n",
       "6      Nor Ciniti  \n",
       "7        COLORADO  \n",
       "8        OKLAHOMA  \n",
       "9        ILLINOIS  "
      ]
     },
     "execution_count": 10,
     "metadata": {},
     "output_type": "execute_result"
    }
   ],
   "source": [
    "df.head(10)"
   ]
  },
  {
   "cell_type": "code",
   "execution_count": null,
   "metadata": {},
   "outputs": [],
   "source": [
    "spark_ai = SparkAI()\n",
    "spark_ai.activate()\n",
    "spark = SparkSession.builder.appName(\"SparkAI x Berkeley VCM DB\").getOrCreate()"
   ]
  },
  {
   "cell_type": "code",
   "execution_count": 12,
   "metadata": {},
   "outputs": [],
   "source": [
    "spark_df = spark.createDataFrame(df)"
   ]
  },
  {
   "cell_type": "code",
   "execution_count": 40,
   "metadata": {},
   "outputs": [
    {
     "name": "stdout",
     "output_type": "stream",
     "text": [
      "\u001b[92mINFO: \u001b[0mHere is a Python code snippet that uses PySpark and Plotly to create a choropleth map visualizing the number of projects in each country by project scope. \n",
      "\n",
      "\n",
      "```\n",
      "\u001b[34mfrom\u001b[39;49;00m \u001b[04m\u001b[36mpyspark\u001b[39;49;00m\u001b[04m\u001b[36m.\u001b[39;49;00m\u001b[04m\u001b[36msql\u001b[39;49;00m \u001b[34mimport\u001b[39;49;00m SparkSession\u001b[37m\u001b[39;49;00m\n",
      "\u001b[34mimport\u001b[39;49;00m \u001b[04m\u001b[36mpandas\u001b[39;49;00m \u001b[34mas\u001b[39;49;00m \u001b[04m\u001b[36mpd\u001b[39;49;00m\u001b[37m\u001b[39;49;00m\n",
      "\u001b[34mimport\u001b[39;49;00m \u001b[04m\u001b[36mplotly\u001b[39;49;00m\u001b[04m\u001b[36m.\u001b[39;49;00m\u001b[04m\u001b[36mexpress\u001b[39;49;00m \u001b[34mas\u001b[39;49;00m \u001b[04m\u001b[36mpx\u001b[39;49;00m\u001b[37m\u001b[39;49;00m\n",
      "\u001b[37m\u001b[39;49;00m\n",
      "\u001b[37m# Start Spark session\u001b[39;49;00m\u001b[37m\u001b[39;49;00m\n",
      "spark = SparkSession.builder.appName(\u001b[33m'\u001b[39;49;00m\u001b[33mchoropleth_map\u001b[39;49;00m\u001b[33m'\u001b[39;49;00m).getOrCreate()\u001b[37m\u001b[39;49;00m\n",
      "\u001b[37m\u001b[39;49;00m\n",
      "\u001b[37m# Assuming df is a Spark DataFrame\u001b[39;49;00m\u001b[37m\u001b[39;49;00m\n",
      "\u001b[37m# Convert Spark DataFrame to Pandas DataFrame\u001b[39;49;00m\u001b[37m\u001b[39;49;00m\n",
      "pandas_df = df.toPandas()\u001b[37m\u001b[39;49;00m\n",
      "\u001b[37m\u001b[39;49;00m\n",
      "\u001b[37m# Group by Country and Scope, count the number of projects\u001b[39;49;00m\u001b[37m\u001b[39;49;00m\n",
      "grouped_df = pandas_df.groupby([\u001b[33m'\u001b[39;49;00m\u001b[33mCountry\u001b[39;49;00m\u001b[33m'\u001b[39;49;00m, \u001b[33m'\u001b[39;49;00m\u001b[33mScope\u001b[39;49;00m\u001b[33m'\u001b[39;49;00m]).size().reset_index(name=\u001b[33m'\u001b[39;49;00m\u001b[33mCounts\u001b[39;49;00m\u001b[33m'\u001b[39;49;00m)\u001b[37m\u001b[39;49;00m\n",
      "\u001b[37m\u001b[39;49;00m\n",
      "\u001b[37m# Concatenate the dataframes\u001b[39;49;00m\u001b[37m\u001b[39;49;00m\n",
      "final_df = pd.concat([grouped_df])\u001b[37m\u001b[39;49;00m\n",
      "\u001b[37m\u001b[39;49;00m\n",
      "\u001b[37m# Create a choropleth map\u001b[39;49;00m\u001b[37m\u001b[39;49;00m\n",
      "fig = px.choropleth(final_df, \u001b[37m\u001b[39;49;00m\n",
      "                    locations=\u001b[33m\"\u001b[39;49;00m\u001b[33mCountry\u001b[39;49;00m\u001b[33m\"\u001b[39;49;00m, \u001b[37m\u001b[39;49;00m\n",
      "                    color=\u001b[33m\"\u001b[39;49;00m\u001b[33mCounts\u001b[39;49;00m\u001b[33m\"\u001b[39;49;00m, \u001b[37m\u001b[39;49;00m\n",
      "                    hover_name=\u001b[33m\"\u001b[39;49;00m\u001b[33mCountry\u001b[39;49;00m\u001b[33m\"\u001b[39;49;00m, \u001b[37m\u001b[39;49;00m\n",
      "                    animation_frame=\u001b[33m\"\u001b[39;49;00m\u001b[33mScope\u001b[39;49;00m\u001b[33m\"\u001b[39;49;00m,\u001b[37m\u001b[39;49;00m\n",
      "                    projection=\u001b[33m\"\u001b[39;49;00m\u001b[33mnatural earth\u001b[39;49;00m\u001b[33m\"\u001b[39;49;00m,\u001b[37m\u001b[39;49;00m\n",
      "                    height=\u001b[34m800\u001b[39;49;00m,\u001b[37m\u001b[39;49;00m\n",
      "                    locationmode = \u001b[33m'\u001b[39;49;00m\u001b[33mcountry names\u001b[39;49;00m\u001b[33m'\u001b[39;49;00m,\u001b[37m\u001b[39;49;00m\n",
      "                    title = \u001b[33m'\u001b[39;49;00m\u001b[33mNumber of Projects in Each Country by Project Scope\u001b[39;49;00m\u001b[33m'\u001b[39;49;00m)\u001b[37m\u001b[39;49;00m\n",
      "\u001b[37m\u001b[39;49;00m\n",
      "fig.show()\u001b[37m\u001b[39;49;00m\n",
      "```\n",
      "\n",
      "This code first starts a Spark session and then converts the Spark DataFrame to a Pandas DataFrame. It then groups the data by 'Country' and 'Scope' and counts the number of projects. The grouped data is then concatenated to create the final DataFrame. \n",
      "\n",
      "The choropleth map is created using Plotly Express, with the locations set to 'Country', the color set to 'Counts' (the number of projects), and the animation frame set to 'Scope'. The projection is set to 'natural earth' and the height is set to 800px. The location mode is set to 'country names'. The map is then displayed.\n"
     ]
    },
    {
     "name": "stderr",
     "output_type": "stream",
     "text": [
      "23/08/17 08:53:24 WARN SparkSession: Using an existing Spark session; only runtime SQL configurations will take effect.\n"
     ]
    },
    {
     "data": {
      "application/vnd.plotly.v1+json": {
       "config": {
        "plotlyServerURL": "https://plot.ly"
       },
       "data": [
        {
         "coloraxis": "coloraxis",
         "geo": "geo",
         "hovertemplate": "<b>%{hovertext}</b><br><br>Scope=Forestry & Land Use<br>Country=%{location}<br>Counts=%{z}<extra></extra>",
         "hovertext": [
          "Albania",
          "Argentina",
          "Australia",
          "Belize",
          "Benin",
          "Bolivia",
          "Brazil",
          "Cambodia",
          "Cameroon",
          "Canada",
          "Central African Republic",
          "Chile",
          "China",
          "Colombia",
          "Costa Rica",
          "DRC",
          "Ecuador",
          "Egypt",
          "Estonia",
          "Ethiopia",
          "Gambia",
          "Georgia",
          "Germany",
          "Ghana",
          "Guatemala",
          "Guinea-Bissau",
          "Honduras",
          "Iceland",
          "India",
          "Indonesia",
          "International",
          "Italy",
          "Japan",
          "Kenya",
          "Laos",
          "Latvia",
          "Madagascar",
          "Malawi",
          "Malaysia",
          "Mali",
          "Mexico",
          "Mozambique",
          "Myanmar",
          "Nicaragua",
          "Niger",
          "Nigeria",
          "Pakistan",
          "Panama",
          "Papua New Guinea",
          "Paraguay",
          "Peru",
          "Philippines",
          "Republic of Congo",
          "Romania",
          "Russia",
          "Rwanda",
          "Saudi Arabia",
          "Senegal",
          "Sierra Leone",
          "South Africa",
          "Spain",
          "Sri Lanka",
          "Tanzania",
          "Timor-Leste",
          "Togo",
          "Uganda",
          "United Arab Emirates",
          "United States",
          "Uruguay",
          "Zambia",
          "Zimbabwe"
         ],
         "locationmode": "country names",
         "locations": [
          "Albania",
          "Argentina",
          "Australia",
          "Belize",
          "Benin",
          "Bolivia",
          "Brazil",
          "Cambodia",
          "Cameroon",
          "Canada",
          "Central African Republic",
          "Chile",
          "China",
          "Colombia",
          "Costa Rica",
          "DRC",
          "Ecuador",
          "Egypt",
          "Estonia",
          "Ethiopia",
          "Gambia",
          "Georgia",
          "Germany",
          "Ghana",
          "Guatemala",
          "Guinea-Bissau",
          "Honduras",
          "Iceland",
          "India",
          "Indonesia",
          "International",
          "Italy",
          "Japan",
          "Kenya",
          "Laos",
          "Latvia",
          "Madagascar",
          "Malawi",
          "Malaysia",
          "Mali",
          "Mexico",
          "Mozambique",
          "Myanmar",
          "Nicaragua",
          "Niger",
          "Nigeria",
          "Pakistan",
          "Panama",
          "Papua New Guinea",
          "Paraguay",
          "Peru",
          "Philippines",
          "Republic of Congo",
          "Romania",
          "Russia",
          "Rwanda",
          "Saudi Arabia",
          "Senegal",
          "Sierra Leone",
          "South Africa",
          "Spain",
          "Sri Lanka",
          "Tanzania",
          "Timor-Leste",
          "Togo",
          "Uganda",
          "United Arab Emirates",
          "United States",
          "Uruguay",
          "Zambia",
          "Zimbabwe"
         ],
         "name": "",
         "type": "choropleth",
         "z": [
          1,
          4,
          6,
          4,
          1,
          5,
          96,
          5,
          2,
          20,
          2,
          6,
          151,
          50,
          4,
          8,
          3,
          1,
          3,
          7,
          1,
          1,
          1,
          6,
          6,
          1,
          2,
          1,
          71,
          10,
          1,
          3,
          1,
          17,
          4,
          1,
          8,
          2,
          2,
          2,
          216,
          3,
          7,
          7,
          2,
          1,
          2,
          5,
          6,
          11,
          28,
          3,
          4,
          2,
          2,
          2,
          1,
          6,
          2,
          10,
          3,
          2,
          6,
          1,
          2,
          12,
          1,
          424,
          14,
          9,
          2
         ]
        }
       ],
       "frames": [
        {
         "data": [
          {
           "coloraxis": "coloraxis",
           "geo": "geo",
           "hovertemplate": "<b>%{hovertext}</b><br><br>Scope=Forestry & Land Use<br>Country=%{location}<br>Counts=%{z}<extra></extra>",
           "hovertext": [
            "Albania",
            "Argentina",
            "Australia",
            "Belize",
            "Benin",
            "Bolivia",
            "Brazil",
            "Cambodia",
            "Cameroon",
            "Canada",
            "Central African Republic",
            "Chile",
            "China",
            "Colombia",
            "Costa Rica",
            "DRC",
            "Ecuador",
            "Egypt",
            "Estonia",
            "Ethiopia",
            "Gambia",
            "Georgia",
            "Germany",
            "Ghana",
            "Guatemala",
            "Guinea-Bissau",
            "Honduras",
            "Iceland",
            "India",
            "Indonesia",
            "International",
            "Italy",
            "Japan",
            "Kenya",
            "Laos",
            "Latvia",
            "Madagascar",
            "Malawi",
            "Malaysia",
            "Mali",
            "Mexico",
            "Mozambique",
            "Myanmar",
            "Nicaragua",
            "Niger",
            "Nigeria",
            "Pakistan",
            "Panama",
            "Papua New Guinea",
            "Paraguay",
            "Peru",
            "Philippines",
            "Republic of Congo",
            "Romania",
            "Russia",
            "Rwanda",
            "Saudi Arabia",
            "Senegal",
            "Sierra Leone",
            "South Africa",
            "Spain",
            "Sri Lanka",
            "Tanzania",
            "Timor-Leste",
            "Togo",
            "Uganda",
            "United Arab Emirates",
            "United States",
            "Uruguay",
            "Zambia",
            "Zimbabwe"
           ],
           "locationmode": "country names",
           "locations": [
            "Albania",
            "Argentina",
            "Australia",
            "Belize",
            "Benin",
            "Bolivia",
            "Brazil",
            "Cambodia",
            "Cameroon",
            "Canada",
            "Central African Republic",
            "Chile",
            "China",
            "Colombia",
            "Costa Rica",
            "DRC",
            "Ecuador",
            "Egypt",
            "Estonia",
            "Ethiopia",
            "Gambia",
            "Georgia",
            "Germany",
            "Ghana",
            "Guatemala",
            "Guinea-Bissau",
            "Honduras",
            "Iceland",
            "India",
            "Indonesia",
            "International",
            "Italy",
            "Japan",
            "Kenya",
            "Laos",
            "Latvia",
            "Madagascar",
            "Malawi",
            "Malaysia",
            "Mali",
            "Mexico",
            "Mozambique",
            "Myanmar",
            "Nicaragua",
            "Niger",
            "Nigeria",
            "Pakistan",
            "Panama",
            "Papua New Guinea",
            "Paraguay",
            "Peru",
            "Philippines",
            "Republic of Congo",
            "Romania",
            "Russia",
            "Rwanda",
            "Saudi Arabia",
            "Senegal",
            "Sierra Leone",
            "South Africa",
            "Spain",
            "Sri Lanka",
            "Tanzania",
            "Timor-Leste",
            "Togo",
            "Uganda",
            "United Arab Emirates",
            "United States",
            "Uruguay",
            "Zambia",
            "Zimbabwe"
           ],
           "name": "",
           "type": "choropleth",
           "z": [
            1,
            4,
            6,
            4,
            1,
            5,
            96,
            5,
            2,
            20,
            2,
            6,
            151,
            50,
            4,
            8,
            3,
            1,
            3,
            7,
            1,
            1,
            1,
            6,
            6,
            1,
            2,
            1,
            71,
            10,
            1,
            3,
            1,
            17,
            4,
            1,
            8,
            2,
            2,
            2,
            216,
            3,
            7,
            7,
            2,
            1,
            2,
            5,
            6,
            11,
            28,
            3,
            4,
            2,
            2,
            2,
            1,
            6,
            2,
            10,
            3,
            2,
            6,
            1,
            2,
            12,
            1,
            424,
            14,
            9,
            2
           ]
          }
         ],
         "name": "Forestry & Land Use"
        },
        {
         "data": [
          {
           "coloraxis": "coloraxis",
           "geo": "geo",
           "hovertemplate": "<b>%{hovertext}</b><br><br>Scope=Household & Community<br>Country=%{location}<br>Counts=%{z}<extra></extra>",
           "hovertext": [
            "Angola",
            "Bangladesh",
            "Benin",
            "Bolivia",
            "Brazil",
            "Burkina Faso",
            "Burundi",
            "Cambodia",
            "Cameroon",
            "Canada",
            "Central African Republic",
            "Chad",
            "China",
            "Colombia",
            "Comoros",
            "Côte d'Ivoire",
            "DRC",
            "Djibouti",
            "Dominican Republic",
            "El Salvador",
            "Eritrea",
            "Ethiopia",
            "Fiji",
            "Gambia",
            "Ghana",
            "Guatemala",
            "Guinea",
            "Haiti",
            "Honduras",
            "India",
            "Indonesia",
            "International",
            "Kenya",
            "Laos",
            "Lesotho",
            "Liberia",
            "Madagascar",
            "Malawi",
            "Mali",
            "Mexico",
            "Mongolia",
            "Mozambique",
            "Myanmar",
            "Namibia",
            "Nepal",
            "New Zealand",
            "Nicaragua",
            "Nigeria",
            "Pakistan",
            "Papua New Guinea",
            "Peru",
            "Philippines",
            "Rwanda",
            "Senegal",
            "Sierra Leone",
            "Singapore",
            "Somalia",
            "South Africa",
            "South Korea",
            "Sri Lanka",
            "Sudan",
            "Switzerland",
            "Tanzania",
            "Thailand",
            "Timor-Leste",
            "Togo",
            "Uganda",
            "United Kingdom",
            "United States",
            "Vietnam",
            "Zambia",
            "Zimbabwe"
           ],
           "locationmode": "country names",
           "locations": [
            "Angola",
            "Bangladesh",
            "Benin",
            "Bolivia",
            "Brazil",
            "Burkina Faso",
            "Burundi",
            "Cambodia",
            "Cameroon",
            "Canada",
            "Central African Republic",
            "Chad",
            "China",
            "Colombia",
            "Comoros",
            "Côte d'Ivoire",
            "DRC",
            "Djibouti",
            "Dominican Republic",
            "El Salvador",
            "Eritrea",
            "Ethiopia",
            "Fiji",
            "Gambia",
            "Ghana",
            "Guatemala",
            "Guinea",
            "Haiti",
            "Honduras",
            "India",
            "Indonesia",
            "International",
            "Kenya",
            "Laos",
            "Lesotho",
            "Liberia",
            "Madagascar",
            "Malawi",
            "Mali",
            "Mexico",
            "Mongolia",
            "Mozambique",
            "Myanmar",
            "Namibia",
            "Nepal",
            "New Zealand",
            "Nicaragua",
            "Nigeria",
            "Pakistan",
            "Papua New Guinea",
            "Peru",
            "Philippines",
            "Rwanda",
            "Senegal",
            "Sierra Leone",
            "Singapore",
            "Somalia",
            "South Africa",
            "South Korea",
            "Sri Lanka",
            "Sudan",
            "Switzerland",
            "Tanzania",
            "Thailand",
            "Timor-Leste",
            "Togo",
            "Uganda",
            "United Kingdom",
            "United States",
            "Vietnam",
            "Zambia",
            "Zimbabwe"
           ],
           "name": "",
           "type": "choropleth",
           "z": [
            4,
            108,
            9,
            4,
            6,
            81,
            13,
            17,
            6,
            1,
            3,
            5,
            151,
            2,
            2,
            7,
            21,
            1,
            1,
            6,
            45,
            52,
            2,
            9,
            20,
            12,
            4,
            7,
            23,
            352,
            7,
            3,
            186,
            8,
            2,
            1,
            81,
            107,
            6,
            8,
            16,
            52,
            27,
            1,
            48,
            1,
            4,
            52,
            1,
            1,
            7,
            4,
            183,
            5,
            22,
            3,
            1,
            28,
            1,
            1,
            4,
            2,
            24,
            2,
            1,
            25,
            197,
            1,
            7,
            30,
            45,
            20
           ]
          }
         ],
         "name": "Household & Community"
        },
        {
         "data": [
          {
           "coloraxis": "coloraxis",
           "geo": "geo",
           "hovertemplate": "<b>%{hovertext}</b><br><br>Scope=Agriculture<br>Country=%{location}<br>Counts=%{z}<extra></extra>",
           "hovertext": [
            "Argentina",
            "Australia",
            "Brazil",
            "Canada",
            "China",
            "Cyprus",
            "Denmark",
            "Germany",
            "Honduras",
            "India",
            "International",
            "Israel",
            "Italy",
            "Kenya",
            "Lithuania",
            "Mexico",
            "Mozambique",
            "Netherlands",
            "New Zealand",
            "Pakistan",
            "Paraguay",
            "South Africa",
            "Switzerland",
            "Taiwan",
            "Thailand",
            "Turkey",
            "Uganda",
            "United Kingdom",
            "United States",
            "Vietnam"
           ],
           "locationmode": "country names",
           "locations": [
            "Argentina",
            "Australia",
            "Brazil",
            "Canada",
            "China",
            "Cyprus",
            "Denmark",
            "Germany",
            "Honduras",
            "India",
            "International",
            "Israel",
            "Italy",
            "Kenya",
            "Lithuania",
            "Mexico",
            "Mozambique",
            "Netherlands",
            "New Zealand",
            "Pakistan",
            "Paraguay",
            "South Africa",
            "Switzerland",
            "Taiwan",
            "Thailand",
            "Turkey",
            "Uganda",
            "United Kingdom",
            "United States",
            "Vietnam"
           ],
           "name": "",
           "type": "choropleth",
           "z": [
            3,
            2,
            22,
            1,
            382,
            2,
            1,
            1,
            1,
            61,
            1,
            1,
            4,
            7,
            2,
            6,
            1,
            5,
            2,
            1,
            1,
            6,
            2,
            1,
            7,
            59,
            2,
            2,
            208,
            2
           ]
          }
         ],
         "name": "Agriculture"
        },
        {
         "data": [
          {
           "coloraxis": "coloraxis",
           "geo": "geo",
           "hovertemplate": "<b>%{hovertext}</b><br><br>Scope=Renewable Energy<br>Country=%{location}<br>Counts=%{z}<extra></extra>",
           "hovertext": [
            "Argentina",
            "Armenia",
            "Aruba",
            "Bahrain",
            "Bangladesh",
            "Benin",
            "Bolivia",
            "Botswana",
            "Brazil",
            "Bulgaria",
            "Burkina Faso",
            "Cambodia",
            "Cameroon",
            "Canada",
            "Chile",
            "China",
            "Colombia",
            "Comoros",
            "Costa Rica",
            "Côte d'Ivoire",
            "DRC",
            "Djibouti",
            "Dominican Republic",
            "Ecuador",
            "Egypt",
            "El Salvador",
            "Ethiopia",
            "Georgia",
            "Guatemala",
            "Honduras",
            "India",
            "Indonesia",
            "Iraq",
            "Jordan",
            "Kazakhstan",
            "Kenya",
            "Kosovo",
            "Laos",
            "Lesotho",
            "Liberia",
            "Madagascar",
            "Malawi",
            "Malaysia",
            "Mali",
            "Mauritania",
            "Mauritius",
            "Mayotte",
            "Mexico",
            "Mongolia",
            "Morocco",
            "Mozambique",
            "Myanmar",
            "Namibia",
            "Nepal",
            "New Caledonia",
            "New Zealand",
            "Nicaragua",
            "Nigeria",
            "North Macedonia",
            "Oman",
            "Pakistan",
            "Panama",
            "Papua New Guinea",
            "Peru",
            "Philippines",
            "Russia",
            "Rwanda",
            "Saudi Arabia",
            "Senegal",
            "Serbia",
            "South Africa",
            "South Korea",
            "Sri Lanka",
            "Suriname",
            "Taiwan",
            "Tajikistan",
            "Tanzania",
            "Thailand",
            "Togo",
            "Tunisia",
            "Turkey",
            "Turkmenistan",
            "Uganda",
            "United States",
            "Uruguay",
            "Uzbekistan",
            "Vietnam",
            "Zambia",
            "Zimbabwe"
           ],
           "locationmode": "country names",
           "locations": [
            "Argentina",
            "Armenia",
            "Aruba",
            "Bahrain",
            "Bangladesh",
            "Benin",
            "Bolivia",
            "Botswana",
            "Brazil",
            "Bulgaria",
            "Burkina Faso",
            "Cambodia",
            "Cameroon",
            "Canada",
            "Chile",
            "China",
            "Colombia",
            "Comoros",
            "Costa Rica",
            "Côte d'Ivoire",
            "DRC",
            "Djibouti",
            "Dominican Republic",
            "Ecuador",
            "Egypt",
            "El Salvador",
            "Ethiopia",
            "Georgia",
            "Guatemala",
            "Honduras",
            "India",
            "Indonesia",
            "Iraq",
            "Jordan",
            "Kazakhstan",
            "Kenya",
            "Kosovo",
            "Laos",
            "Lesotho",
            "Liberia",
            "Madagascar",
            "Malawi",
            "Malaysia",
            "Mali",
            "Mauritania",
            "Mauritius",
            "Mayotte",
            "Mexico",
            "Mongolia",
            "Morocco",
            "Mozambique",
            "Myanmar",
            "Namibia",
            "Nepal",
            "New Caledonia",
            "New Zealand",
            "Nicaragua",
            "Nigeria",
            "North Macedonia",
            "Oman",
            "Pakistan",
            "Panama",
            "Papua New Guinea",
            "Peru",
            "Philippines",
            "Russia",
            "Rwanda",
            "Saudi Arabia",
            "Senegal",
            "Serbia",
            "South Africa",
            "South Korea",
            "Sri Lanka",
            "Suriname",
            "Taiwan",
            "Tajikistan",
            "Tanzania",
            "Thailand",
            "Togo",
            "Tunisia",
            "Turkey",
            "Turkmenistan",
            "Uganda",
            "United States",
            "Uruguay",
            "Uzbekistan",
            "Vietnam",
            "Zambia",
            "Zimbabwe"
           ],
           "name": "",
           "type": "choropleth",
           "z": [
            11,
            1,
            2,
            1,
            7,
            1,
            4,
            1,
            82,
            3,
            4,
            4,
            1,
            1,
            22,
            403,
            27,
            1,
            2,
            1,
            2,
            1,
            7,
            1,
            11,
            2,
            5,
            2,
            1,
            12,
            891,
            20,
            1,
            1,
            3,
            10,
            1,
            16,
            2,
            1,
            8,
            4,
            3,
            1,
            2,
            3,
            1,
            6,
            3,
            10,
            1,
            2,
            5,
            2,
            1,
            2,
            7,
            4,
            1,
            1,
            14,
            1,
            2,
            8,
            7,
            3,
            5,
            1,
            9,
            1,
            11,
            4,
            14,
            1,
            7,
            1,
            7,
            20,
            1,
            1,
            407,
            1,
            4,
            24,
            7,
            2,
            81,
            6,
            2
           ]
          }
         ],
         "name": "Renewable Energy"
        },
        {
         "data": [
          {
           "coloraxis": "coloraxis",
           "geo": "geo",
           "hovertemplate": "<b>%{hovertext}</b><br><br>Scope=Transportation<br>Country=%{location}<br>Counts=%{z}<extra></extra>",
           "hovertext": [
            "Argentina",
            "Australia",
            "Brazil",
            "Canada",
            "China",
            "Costa Rica",
            "Greece",
            "Iceland",
            "India",
            "International",
            "Kenya",
            "Peru",
            "Senegal",
            "South Africa",
            "South Korea",
            "Switzerland",
            "Taiwan",
            "Thailand",
            "Togo",
            "Turkey",
            "United States"
           ],
           "locationmode": "country names",
           "locations": [
            "Argentina",
            "Australia",
            "Brazil",
            "Canada",
            "China",
            "Costa Rica",
            "Greece",
            "Iceland",
            "India",
            "International",
            "Kenya",
            "Peru",
            "Senegal",
            "South Africa",
            "South Korea",
            "Switzerland",
            "Taiwan",
            "Thailand",
            "Togo",
            "Turkey",
            "United States"
           ],
           "name": "",
           "type": "choropleth",
           "z": [
            1,
            1,
            3,
            2,
            2,
            1,
            2,
            1,
            11,
            4,
            2,
            2,
            1,
            1,
            1,
            1,
            1,
            1,
            1,
            2,
            40
           ]
          }
         ],
         "name": "Transportation"
        },
        {
         "data": [
          {
           "coloraxis": "coloraxis",
           "geo": "geo",
           "hovertemplate": "<b>%{hovertext}</b><br><br>Scope=Waste Management<br>Country=%{location}<br>Counts=%{z}<extra></extra>",
           "hovertext": [
            "Argentina",
            "Brazil",
            "Bulgaria",
            "Cameroon",
            "Canada",
            "Chile",
            "China",
            "Colombia",
            "Ecuador",
            "El Salvador",
            "Germany",
            "Honduras",
            "India",
            "Indonesia",
            "Kenya",
            "Laos",
            "Madagascar",
            "Malaysia",
            "Mexico",
            "Morocco",
            "Nepal",
            "New Zealand",
            "Nicaragua",
            "Pakistan",
            "Papua New Guinea",
            "Romania",
            "Serbia",
            "South Africa",
            "South Korea",
            "Sudan",
            "Taiwan",
            "Tanzania",
            "Thailand",
            "Togo",
            "Turkey",
            "Uganda",
            "United Arab Emirates",
            "United Kingdom",
            "United States",
            "Vietnam"
           ],
           "locationmode": "country names",
           "locations": [
            "Argentina",
            "Brazil",
            "Bulgaria",
            "Cameroon",
            "Canada",
            "Chile",
            "China",
            "Colombia",
            "Ecuador",
            "El Salvador",
            "Germany",
            "Honduras",
            "India",
            "Indonesia",
            "Kenya",
            "Laos",
            "Madagascar",
            "Malaysia",
            "Mexico",
            "Morocco",
            "Nepal",
            "New Zealand",
            "Nicaragua",
            "Pakistan",
            "Papua New Guinea",
            "Romania",
            "Serbia",
            "South Africa",
            "South Korea",
            "Sudan",
            "Taiwan",
            "Tanzania",
            "Thailand",
            "Togo",
            "Turkey",
            "Uganda",
            "United Arab Emirates",
            "United Kingdom",
            "United States",
            "Vietnam"
           ],
           "name": "",
           "type": "choropleth",
           "z": [
            2,
            22,
            1,
            1,
            1,
            5,
            120,
            3,
            1,
            1,
            2,
            2,
            14,
            7,
            2,
            1,
            2,
            8,
            5,
            1,
            2,
            1,
            1,
            2,
            2,
            2,
            1,
            11,
            2,
            1,
            1,
            2,
            53,
            1,
            59,
            1,
            1,
            1,
            178,
            9
           ]
          }
         ],
         "name": "Waste Management"
        },
        {
         "data": [
          {
           "coloraxis": "coloraxis",
           "geo": "geo",
           "hovertemplate": "<b>%{hovertext}</b><br><br>Scope=Industrial & Commercial<br>Country=%{location}<br>Counts=%{z}<extra></extra>",
           "hovertext": [
            "Austria",
            "Bahamas",
            "Bangladesh",
            "Bolivia",
            "Brazil",
            "Canada",
            "Chile",
            "China",
            "Colombia",
            "Comoros",
            "Dominican Republic",
            "Germany",
            "India",
            "Indonesia",
            "Israel",
            "Kazakhstan",
            "Malawi",
            "Malaysia",
            "Mexico",
            "Nepal",
            "Oman",
            "Peru",
            "Philippines",
            "Russia",
            "Singapore",
            "South Africa",
            "South Korea",
            "Switzerland",
            "Syria",
            "Turkey",
            "United Arab Emirates",
            "United Kingdom",
            "United States"
           ],
           "locationmode": "country names",
           "locations": [
            "Austria",
            "Bahamas",
            "Bangladesh",
            "Bolivia",
            "Brazil",
            "Canada",
            "Chile",
            "China",
            "Colombia",
            "Comoros",
            "Dominican Republic",
            "Germany",
            "India",
            "Indonesia",
            "Israel",
            "Kazakhstan",
            "Malawi",
            "Malaysia",
            "Mexico",
            "Nepal",
            "Oman",
            "Peru",
            "Philippines",
            "Russia",
            "Singapore",
            "South Africa",
            "South Korea",
            "Switzerland",
            "Syria",
            "Turkey",
            "United Arab Emirates",
            "United Kingdom",
            "United States"
           ],
           "name": "",
           "type": "choropleth",
           "z": [
            1,
            1,
            7,
            1,
            1,
            1,
            1,
            59,
            4,
            1,
            1,
            39,
            50,
            4,
            2,
            1,
            2,
            2,
            1,
            1,
            2,
            4,
            2,
            1,
            2,
            2,
            4,
            1,
            1,
            10,
            1,
            1,
            98
           ]
          }
         ],
         "name": "Industrial & Commercial"
        },
        {
         "data": [
          {
           "coloraxis": "coloraxis",
           "geo": "geo",
           "hovertemplate": "<b>%{hovertext}</b><br><br>Scope=Carbon Capture & Storage<br>Country=%{location}<br>Counts=%{z}<extra></extra>",
           "hovertext": [
            "Canada",
            "United States"
           ],
           "locationmode": "country names",
           "locations": [
            "Canada",
            "United States"
           ],
           "name": "",
           "type": "choropleth",
           "z": [
            1,
            10
           ]
          }
         ],
         "name": "Carbon Capture & Storage"
        },
        {
         "data": [
          {
           "coloraxis": "coloraxis",
           "geo": "geo",
           "hovertemplate": "<b>%{hovertext}</b><br><br>Scope=Chemical Processes<br>Country=%{location}<br>Counts=%{z}<extra></extra>",
           "hovertext": [
            "Canada",
            "China",
            "Dominican Republic",
            "France",
            "Ghana",
            "Honduras",
            "India",
            "Saudi Arabia",
            "South Africa",
            "Thailand",
            "United States"
           ],
           "locationmode": "country names",
           "locations": [
            "Canada",
            "China",
            "Dominican Republic",
            "France",
            "Ghana",
            "Honduras",
            "India",
            "Saudi Arabia",
            "South Africa",
            "Thailand",
            "United States"
           ],
           "name": "",
           "type": "choropleth",
           "z": [
            8,
            2,
            1,
            1,
            1,
            1,
            1,
            1,
            9,
            3,
            373
           ]
          }
         ],
         "name": "Chemical Processes"
        }
       ],
       "layout": {
        "coloraxis": {
         "colorbar": {
          "title": {
           "text": "Counts"
          }
         },
         "colorscale": [
          [
           0,
           "#0d0887"
          ],
          [
           0.1111111111111111,
           "#46039f"
          ],
          [
           0.2222222222222222,
           "#7201a8"
          ],
          [
           0.3333333333333333,
           "#9c179e"
          ],
          [
           0.4444444444444444,
           "#bd3786"
          ],
          [
           0.5555555555555556,
           "#d8576b"
          ],
          [
           0.6666666666666666,
           "#ed7953"
          ],
          [
           0.7777777777777778,
           "#fb9f3a"
          ],
          [
           0.8888888888888888,
           "#fdca26"
          ],
          [
           1,
           "#f0f921"
          ]
         ]
        },
        "geo": {
         "center": {},
         "domain": {
          "x": [
           0,
           1
          ],
          "y": [
           0,
           1
          ]
         },
         "projection": {
          "type": "natural earth"
         }
        },
        "height": 800,
        "legend": {
         "tracegroupgap": 0
        },
        "sliders": [
         {
          "active": 0,
          "currentvalue": {
           "prefix": "Scope="
          },
          "len": 0.9,
          "pad": {
           "b": 10,
           "t": 60
          },
          "steps": [
           {
            "args": [
             [
              "Forestry & Land Use"
             ],
             {
              "frame": {
               "duration": 0,
               "redraw": true
              },
              "fromcurrent": true,
              "mode": "immediate",
              "transition": {
               "duration": 0,
               "easing": "linear"
              }
             }
            ],
            "label": "Forestry & Land Use",
            "method": "animate"
           },
           {
            "args": [
             [
              "Household & Community"
             ],
             {
              "frame": {
               "duration": 0,
               "redraw": true
              },
              "fromcurrent": true,
              "mode": "immediate",
              "transition": {
               "duration": 0,
               "easing": "linear"
              }
             }
            ],
            "label": "Household & Community",
            "method": "animate"
           },
           {
            "args": [
             [
              "Agriculture"
             ],
             {
              "frame": {
               "duration": 0,
               "redraw": true
              },
              "fromcurrent": true,
              "mode": "immediate",
              "transition": {
               "duration": 0,
               "easing": "linear"
              }
             }
            ],
            "label": "Agriculture",
            "method": "animate"
           },
           {
            "args": [
             [
              "Renewable Energy"
             ],
             {
              "frame": {
               "duration": 0,
               "redraw": true
              },
              "fromcurrent": true,
              "mode": "immediate",
              "transition": {
               "duration": 0,
               "easing": "linear"
              }
             }
            ],
            "label": "Renewable Energy",
            "method": "animate"
           },
           {
            "args": [
             [
              "Transportation"
             ],
             {
              "frame": {
               "duration": 0,
               "redraw": true
              },
              "fromcurrent": true,
              "mode": "immediate",
              "transition": {
               "duration": 0,
               "easing": "linear"
              }
             }
            ],
            "label": "Transportation",
            "method": "animate"
           },
           {
            "args": [
             [
              "Waste Management"
             ],
             {
              "frame": {
               "duration": 0,
               "redraw": true
              },
              "fromcurrent": true,
              "mode": "immediate",
              "transition": {
               "duration": 0,
               "easing": "linear"
              }
             }
            ],
            "label": "Waste Management",
            "method": "animate"
           },
           {
            "args": [
             [
              "Industrial & Commercial"
             ],
             {
              "frame": {
               "duration": 0,
               "redraw": true
              },
              "fromcurrent": true,
              "mode": "immediate",
              "transition": {
               "duration": 0,
               "easing": "linear"
              }
             }
            ],
            "label": "Industrial & Commercial",
            "method": "animate"
           },
           {
            "args": [
             [
              "Carbon Capture & Storage"
             ],
             {
              "frame": {
               "duration": 0,
               "redraw": true
              },
              "fromcurrent": true,
              "mode": "immediate",
              "transition": {
               "duration": 0,
               "easing": "linear"
              }
             }
            ],
            "label": "Carbon Capture & Storage",
            "method": "animate"
           },
           {
            "args": [
             [
              "Chemical Processes"
             ],
             {
              "frame": {
               "duration": 0,
               "redraw": true
              },
              "fromcurrent": true,
              "mode": "immediate",
              "transition": {
               "duration": 0,
               "easing": "linear"
              }
             }
            ],
            "label": "Chemical Processes",
            "method": "animate"
           }
          ],
          "x": 0.1,
          "xanchor": "left",
          "y": 0,
          "yanchor": "top"
         }
        ],
        "template": {
         "data": {
          "bar": [
           {
            "error_x": {
             "color": "#2a3f5f"
            },
            "error_y": {
             "color": "#2a3f5f"
            },
            "marker": {
             "line": {
              "color": "#E5ECF6",
              "width": 0.5
             },
             "pattern": {
              "fillmode": "overlay",
              "size": 10,
              "solidity": 0.2
             }
            },
            "type": "bar"
           }
          ],
          "barpolar": [
           {
            "marker": {
             "line": {
              "color": "#E5ECF6",
              "width": 0.5
             },
             "pattern": {
              "fillmode": "overlay",
              "size": 10,
              "solidity": 0.2
             }
            },
            "type": "barpolar"
           }
          ],
          "carpet": [
           {
            "aaxis": {
             "endlinecolor": "#2a3f5f",
             "gridcolor": "white",
             "linecolor": "white",
             "minorgridcolor": "white",
             "startlinecolor": "#2a3f5f"
            },
            "baxis": {
             "endlinecolor": "#2a3f5f",
             "gridcolor": "white",
             "linecolor": "white",
             "minorgridcolor": "white",
             "startlinecolor": "#2a3f5f"
            },
            "type": "carpet"
           }
          ],
          "choropleth": [
           {
            "colorbar": {
             "outlinewidth": 0,
             "ticks": ""
            },
            "type": "choropleth"
           }
          ],
          "contour": [
           {
            "colorbar": {
             "outlinewidth": 0,
             "ticks": ""
            },
            "colorscale": [
             [
              0,
              "#0d0887"
             ],
             [
              0.1111111111111111,
              "#46039f"
             ],
             [
              0.2222222222222222,
              "#7201a8"
             ],
             [
              0.3333333333333333,
              "#9c179e"
             ],
             [
              0.4444444444444444,
              "#bd3786"
             ],
             [
              0.5555555555555556,
              "#d8576b"
             ],
             [
              0.6666666666666666,
              "#ed7953"
             ],
             [
              0.7777777777777778,
              "#fb9f3a"
             ],
             [
              0.8888888888888888,
              "#fdca26"
             ],
             [
              1,
              "#f0f921"
             ]
            ],
            "type": "contour"
           }
          ],
          "contourcarpet": [
           {
            "colorbar": {
             "outlinewidth": 0,
             "ticks": ""
            },
            "type": "contourcarpet"
           }
          ],
          "heatmap": [
           {
            "colorbar": {
             "outlinewidth": 0,
             "ticks": ""
            },
            "colorscale": [
             [
              0,
              "#0d0887"
             ],
             [
              0.1111111111111111,
              "#46039f"
             ],
             [
              0.2222222222222222,
              "#7201a8"
             ],
             [
              0.3333333333333333,
              "#9c179e"
             ],
             [
              0.4444444444444444,
              "#bd3786"
             ],
             [
              0.5555555555555556,
              "#d8576b"
             ],
             [
              0.6666666666666666,
              "#ed7953"
             ],
             [
              0.7777777777777778,
              "#fb9f3a"
             ],
             [
              0.8888888888888888,
              "#fdca26"
             ],
             [
              1,
              "#f0f921"
             ]
            ],
            "type": "heatmap"
           }
          ],
          "heatmapgl": [
           {
            "colorbar": {
             "outlinewidth": 0,
             "ticks": ""
            },
            "colorscale": [
             [
              0,
              "#0d0887"
             ],
             [
              0.1111111111111111,
              "#46039f"
             ],
             [
              0.2222222222222222,
              "#7201a8"
             ],
             [
              0.3333333333333333,
              "#9c179e"
             ],
             [
              0.4444444444444444,
              "#bd3786"
             ],
             [
              0.5555555555555556,
              "#d8576b"
             ],
             [
              0.6666666666666666,
              "#ed7953"
             ],
             [
              0.7777777777777778,
              "#fb9f3a"
             ],
             [
              0.8888888888888888,
              "#fdca26"
             ],
             [
              1,
              "#f0f921"
             ]
            ],
            "type": "heatmapgl"
           }
          ],
          "histogram": [
           {
            "marker": {
             "pattern": {
              "fillmode": "overlay",
              "size": 10,
              "solidity": 0.2
             }
            },
            "type": "histogram"
           }
          ],
          "histogram2d": [
           {
            "colorbar": {
             "outlinewidth": 0,
             "ticks": ""
            },
            "colorscale": [
             [
              0,
              "#0d0887"
             ],
             [
              0.1111111111111111,
              "#46039f"
             ],
             [
              0.2222222222222222,
              "#7201a8"
             ],
             [
              0.3333333333333333,
              "#9c179e"
             ],
             [
              0.4444444444444444,
              "#bd3786"
             ],
             [
              0.5555555555555556,
              "#d8576b"
             ],
             [
              0.6666666666666666,
              "#ed7953"
             ],
             [
              0.7777777777777778,
              "#fb9f3a"
             ],
             [
              0.8888888888888888,
              "#fdca26"
             ],
             [
              1,
              "#f0f921"
             ]
            ],
            "type": "histogram2d"
           }
          ],
          "histogram2dcontour": [
           {
            "colorbar": {
             "outlinewidth": 0,
             "ticks": ""
            },
            "colorscale": [
             [
              0,
              "#0d0887"
             ],
             [
              0.1111111111111111,
              "#46039f"
             ],
             [
              0.2222222222222222,
              "#7201a8"
             ],
             [
              0.3333333333333333,
              "#9c179e"
             ],
             [
              0.4444444444444444,
              "#bd3786"
             ],
             [
              0.5555555555555556,
              "#d8576b"
             ],
             [
              0.6666666666666666,
              "#ed7953"
             ],
             [
              0.7777777777777778,
              "#fb9f3a"
             ],
             [
              0.8888888888888888,
              "#fdca26"
             ],
             [
              1,
              "#f0f921"
             ]
            ],
            "type": "histogram2dcontour"
           }
          ],
          "mesh3d": [
           {
            "colorbar": {
             "outlinewidth": 0,
             "ticks": ""
            },
            "type": "mesh3d"
           }
          ],
          "parcoords": [
           {
            "line": {
             "colorbar": {
              "outlinewidth": 0,
              "ticks": ""
             }
            },
            "type": "parcoords"
           }
          ],
          "pie": [
           {
            "automargin": true,
            "type": "pie"
           }
          ],
          "scatter": [
           {
            "fillpattern": {
             "fillmode": "overlay",
             "size": 10,
             "solidity": 0.2
            },
            "type": "scatter"
           }
          ],
          "scatter3d": [
           {
            "line": {
             "colorbar": {
              "outlinewidth": 0,
              "ticks": ""
             }
            },
            "marker": {
             "colorbar": {
              "outlinewidth": 0,
              "ticks": ""
             }
            },
            "type": "scatter3d"
           }
          ],
          "scattercarpet": [
           {
            "marker": {
             "colorbar": {
              "outlinewidth": 0,
              "ticks": ""
             }
            },
            "type": "scattercarpet"
           }
          ],
          "scattergeo": [
           {
            "marker": {
             "colorbar": {
              "outlinewidth": 0,
              "ticks": ""
             }
            },
            "type": "scattergeo"
           }
          ],
          "scattergl": [
           {
            "marker": {
             "colorbar": {
              "outlinewidth": 0,
              "ticks": ""
             }
            },
            "type": "scattergl"
           }
          ],
          "scattermapbox": [
           {
            "marker": {
             "colorbar": {
              "outlinewidth": 0,
              "ticks": ""
             }
            },
            "type": "scattermapbox"
           }
          ],
          "scatterpolar": [
           {
            "marker": {
             "colorbar": {
              "outlinewidth": 0,
              "ticks": ""
             }
            },
            "type": "scatterpolar"
           }
          ],
          "scatterpolargl": [
           {
            "marker": {
             "colorbar": {
              "outlinewidth": 0,
              "ticks": ""
             }
            },
            "type": "scatterpolargl"
           }
          ],
          "scatterternary": [
           {
            "marker": {
             "colorbar": {
              "outlinewidth": 0,
              "ticks": ""
             }
            },
            "type": "scatterternary"
           }
          ],
          "surface": [
           {
            "colorbar": {
             "outlinewidth": 0,
             "ticks": ""
            },
            "colorscale": [
             [
              0,
              "#0d0887"
             ],
             [
              0.1111111111111111,
              "#46039f"
             ],
             [
              0.2222222222222222,
              "#7201a8"
             ],
             [
              0.3333333333333333,
              "#9c179e"
             ],
             [
              0.4444444444444444,
              "#bd3786"
             ],
             [
              0.5555555555555556,
              "#d8576b"
             ],
             [
              0.6666666666666666,
              "#ed7953"
             ],
             [
              0.7777777777777778,
              "#fb9f3a"
             ],
             [
              0.8888888888888888,
              "#fdca26"
             ],
             [
              1,
              "#f0f921"
             ]
            ],
            "type": "surface"
           }
          ],
          "table": [
           {
            "cells": {
             "fill": {
              "color": "#EBF0F8"
             },
             "line": {
              "color": "white"
             }
            },
            "header": {
             "fill": {
              "color": "#C8D4E3"
             },
             "line": {
              "color": "white"
             }
            },
            "type": "table"
           }
          ]
         },
         "layout": {
          "annotationdefaults": {
           "arrowcolor": "#2a3f5f",
           "arrowhead": 0,
           "arrowwidth": 1
          },
          "autotypenumbers": "strict",
          "coloraxis": {
           "colorbar": {
            "outlinewidth": 0,
            "ticks": ""
           }
          },
          "colorscale": {
           "diverging": [
            [
             0,
             "#8e0152"
            ],
            [
             0.1,
             "#c51b7d"
            ],
            [
             0.2,
             "#de77ae"
            ],
            [
             0.3,
             "#f1b6da"
            ],
            [
             0.4,
             "#fde0ef"
            ],
            [
             0.5,
             "#f7f7f7"
            ],
            [
             0.6,
             "#e6f5d0"
            ],
            [
             0.7,
             "#b8e186"
            ],
            [
             0.8,
             "#7fbc41"
            ],
            [
             0.9,
             "#4d9221"
            ],
            [
             1,
             "#276419"
            ]
           ],
           "sequential": [
            [
             0,
             "#0d0887"
            ],
            [
             0.1111111111111111,
             "#46039f"
            ],
            [
             0.2222222222222222,
             "#7201a8"
            ],
            [
             0.3333333333333333,
             "#9c179e"
            ],
            [
             0.4444444444444444,
             "#bd3786"
            ],
            [
             0.5555555555555556,
             "#d8576b"
            ],
            [
             0.6666666666666666,
             "#ed7953"
            ],
            [
             0.7777777777777778,
             "#fb9f3a"
            ],
            [
             0.8888888888888888,
             "#fdca26"
            ],
            [
             1,
             "#f0f921"
            ]
           ],
           "sequentialminus": [
            [
             0,
             "#0d0887"
            ],
            [
             0.1111111111111111,
             "#46039f"
            ],
            [
             0.2222222222222222,
             "#7201a8"
            ],
            [
             0.3333333333333333,
             "#9c179e"
            ],
            [
             0.4444444444444444,
             "#bd3786"
            ],
            [
             0.5555555555555556,
             "#d8576b"
            ],
            [
             0.6666666666666666,
             "#ed7953"
            ],
            [
             0.7777777777777778,
             "#fb9f3a"
            ],
            [
             0.8888888888888888,
             "#fdca26"
            ],
            [
             1,
             "#f0f921"
            ]
           ]
          },
          "colorway": [
           "#636efa",
           "#EF553B",
           "#00cc96",
           "#ab63fa",
           "#FFA15A",
           "#19d3f3",
           "#FF6692",
           "#B6E880",
           "#FF97FF",
           "#FECB52"
          ],
          "font": {
           "color": "#2a3f5f"
          },
          "geo": {
           "bgcolor": "white",
           "lakecolor": "white",
           "landcolor": "#E5ECF6",
           "showlakes": true,
           "showland": true,
           "subunitcolor": "white"
          },
          "hoverlabel": {
           "align": "left"
          },
          "hovermode": "closest",
          "mapbox": {
           "style": "light"
          },
          "paper_bgcolor": "white",
          "plot_bgcolor": "#E5ECF6",
          "polar": {
           "angularaxis": {
            "gridcolor": "white",
            "linecolor": "white",
            "ticks": ""
           },
           "bgcolor": "#E5ECF6",
           "radialaxis": {
            "gridcolor": "white",
            "linecolor": "white",
            "ticks": ""
           }
          },
          "scene": {
           "xaxis": {
            "backgroundcolor": "#E5ECF6",
            "gridcolor": "white",
            "gridwidth": 2,
            "linecolor": "white",
            "showbackground": true,
            "ticks": "",
            "zerolinecolor": "white"
           },
           "yaxis": {
            "backgroundcolor": "#E5ECF6",
            "gridcolor": "white",
            "gridwidth": 2,
            "linecolor": "white",
            "showbackground": true,
            "ticks": "",
            "zerolinecolor": "white"
           },
           "zaxis": {
            "backgroundcolor": "#E5ECF6",
            "gridcolor": "white",
            "gridwidth": 2,
            "linecolor": "white",
            "showbackground": true,
            "ticks": "",
            "zerolinecolor": "white"
           }
          },
          "shapedefaults": {
           "line": {
            "color": "#2a3f5f"
           }
          },
          "ternary": {
           "aaxis": {
            "gridcolor": "white",
            "linecolor": "white",
            "ticks": ""
           },
           "baxis": {
            "gridcolor": "white",
            "linecolor": "white",
            "ticks": ""
           },
           "bgcolor": "#E5ECF6",
           "caxis": {
            "gridcolor": "white",
            "linecolor": "white",
            "ticks": ""
           }
          },
          "title": {
           "x": 0.05
          },
          "xaxis": {
           "automargin": true,
           "gridcolor": "white",
           "linecolor": "white",
           "ticks": "",
           "title": {
            "standoff": 15
           },
           "zerolinecolor": "white",
           "zerolinewidth": 2
          },
          "yaxis": {
           "automargin": true,
           "gridcolor": "white",
           "linecolor": "white",
           "ticks": "",
           "title": {
            "standoff": 15
           },
           "zerolinecolor": "white",
           "zerolinewidth": 2
          }
         }
        },
        "title": {
         "text": "Number of Projects in Each Country by Project Scope"
        },
        "updatemenus": [
         {
          "buttons": [
           {
            "args": [
             null,
             {
              "frame": {
               "duration": 500,
               "redraw": true
              },
              "fromcurrent": true,
              "mode": "immediate",
              "transition": {
               "duration": 500,
               "easing": "linear"
              }
             }
            ],
            "label": "&#9654;",
            "method": "animate"
           },
           {
            "args": [
             [
              null
             ],
             {
              "frame": {
               "duration": 0,
               "redraw": true
              },
              "fromcurrent": true,
              "mode": "immediate",
              "transition": {
               "duration": 0,
               "easing": "linear"
              }
             }
            ],
            "label": "&#9724;",
            "method": "animate"
           }
          ],
          "direction": "left",
          "pad": {
           "r": 10,
           "t": 70
          },
          "showactive": false,
          "type": "buttons",
          "x": 0.1,
          "xanchor": "right",
          "y": 0,
          "yanchor": "top"
         }
        ]
       }
      }
     },
     "metadata": {},
     "output_type": "display_data"
    }
   ],
   "source": [
    "spark_df.ai.plot(\"\"\"\n",
    "    A choropleth map visualising the number of projects in each country by project scope. \n",
    "    Show the different project scopes within each country as different series. \n",
    "    Ensure that the location mode is country names.\n",
    "    The map area should be 800px.\n",
    "    \"\"\")\n"
   ]
  }
 ],
 "metadata": {
  "kernelspec": {
   "display_name": "venv",
   "language": "python",
   "name": "python3"
  },
  "language_info": {
   "codemirror_mode": {
    "name": "ipython",
    "version": 3
   },
   "file_extension": ".py",
   "mimetype": "text/x-python",
   "name": "python",
   "nbconvert_exporter": "python",
   "pygments_lexer": "ipython3",
   "version": "3.9.6"
  },
  "orig_nbformat": 4
 },
 "nbformat": 4,
 "nbformat_minor": 2
}
